{
 "cells": [
  {
   "cell_type": "code",
   "execution_count": null,
   "id": "ab3f983b-e918-471f-8551-7c31abccef61",
   "metadata": {},
   "outputs": [],
   "source": [
    "this is the dfs file"
   ]
  },
  {
   "cell_type": "code",
   "execution_count": null,
   "id": "4bc206c8-a026-4795-b516-8f2e11cf8664",
   "metadata": {},
   "outputs": [],
   "source": []
  }
 ],
 "metadata": {
  "kernelspec": {
   "display_name": "Python 3 (ipykernel)",
   "language": "python",
   "name": "python3"
  },
  "language_info": {
   "codemirror_mode": {
    "name": "ipython",
    "version": 3
   },
   "file_extension": ".py",
   "mimetype": "text/x-python",
   "name": "python",
   "nbconvert_exporter": "python",
   "pygments_lexer": "ipython3",
   "version": "3.9.19"
  }
 },
 "nbformat": 4,
 "nbformat_minor": 5
}
