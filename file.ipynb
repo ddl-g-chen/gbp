{
 "cells": [
  {
   "cell_type": "code",
   "execution_count": null,
   "id": "c35e8ebe-c949-4e72-927a-b4625ba076e0",
   "metadata": {},
   "outputs": [],
   "source": [
    "test!!"
   ]
  }
 ],
 "metadata": {
  "kernelspec": {
   "display_name": "Python 3 (ipykernel)",
   "language": "python",
   "name": "python3"
  },
  "language_info": {
   "codemirror_mode": {
    "name": "ipython",
    "version": 3
   },
   "file_extension": ".py",
   "mimetype": "text/x-python",
   "name": "python",
   "nbconvert_exporter": "python",
   "pygments_lexer": "ipython3",
   "version": "3.9.19"
  }
 },
 "nbformat": 4,
 "nbformat_minor": 5
}
